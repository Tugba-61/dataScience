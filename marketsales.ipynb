{
  "cells": [
    {
      "cell_type": "markdown",
      "metadata": {
        "id": "view-in-github",
        "colab_type": "text"
      },
      "source": [
        "<a href=\"https://colab.research.google.com/github/Tugba-61/dataScience/blob/main/marketsales.ipynb\" target=\"_parent\"><img src=\"https://colab.research.google.com/assets/colab-badge.svg\" alt=\"Open In Colab\"/></a>"
      ]
    },
    {
      "cell_type": "markdown",
      "metadata": {
        "id": "zUlON4PfKdDG"
      },
      "source": [
        "#### 1- Kütüphanelerin Yüklenmesi"
      ]
    },
    {
      "cell_type": "code",
      "execution_count": 4,
      "metadata": {
        "id": "JdHD0cxkKdDI"
      },
      "outputs": [],
      "source": [
        "import numpy as np ## numpy kütüphanesinin import edilmesi\n",
        "import pandas as pd ## pandas kütüphanesinin import edilmesi\n",
        "import seaborn as sns ## seaborn kütüphanesinin import edilmesi\n",
        "import matplotlib.pyplot as plt ## matplotlip kütüphanesinin import edilmesi\n",
        "import datetime as dt ## datetime kütüphanesinin import edilmesi\n",
        "pd.pandas.set_option('display.max_columns', None) ## dataframein tüm sutunlarının görülmesi için gereken kod"
      ]
    },
    {
      "cell_type": "markdown",
      "metadata": {
        "id": "ByJsAbDMKdDJ"
      },
      "source": [
        "### 2- Verisetinin Yüklenmesi"
      ]
    },
    {
      "cell_type": "code",
      "source": [
        "from google.colab import drive\n",
        "drive.mount('/content/drive')   # sen lokaldeysen gerek yok"
      ],
      "metadata": {
        "colab": {
          "base_uri": "https://localhost:8080/"
        },
        "id": "gKqNCatRK-T8",
        "outputId": "c94c975b-b362-4dd2-d99f-8bf72674342b"
      },
      "execution_count": 5,
      "outputs": [
        {
          "output_type": "stream",
          "name": "stdout",
          "text": [
            "Drive already mounted at /content/drive; to attempt to forcibly remount, call drive.mount(\"/content/drive\", force_remount=True).\n"
          ]
        }
      ]
    },
    {
      "cell_type": "code",
      "source": [],
      "metadata": {
        "id": "l6G0UDmPK-03"
      },
      "execution_count": null,
      "outputs": []
    },
    {
      "cell_type": "code",
      "execution_count": 6,
      "metadata": {
        "collapsed": true,
        "jupyter": {
          "outputs_hidden": true
        },
        "tags": [],
        "id": "8WoZ6sHaKdDJ"
      },
      "outputs": [],
      "source": [
        "### Veri Çok fazla olduğundan biraz zaman alabilir.\n",
        "data = pd.read_excel(\"/content/drive/MyDrive/veri bilimi/üçüncü hafta/MarketSales.xlsx\")"
      ]
    },
    {
      "cell_type": "code",
      "source": [
        "data.head()"
      ],
      "metadata": {
        "id": "quICxC6eN32p"
      },
      "execution_count": null,
      "outputs": []
    },
    {
      "cell_type": "code",
      "execution_count": null,
      "metadata": {
        "id": "gptfgwSQKdDK"
      },
      "outputs": [],
      "source": [
        "data.head(2)"
      ]
    },
    {
      "cell_type": "markdown",
      "metadata": {
        "id": "Um5vuQIwKdDK"
      },
      "source": [
        "### 3- Verisetinin Orjinalınde değişiklik gelmemesei için veriyi başka bir değişkene atayın"
      ]
    },
    {
      "cell_type": "code",
      "source": [
        "data_raw = data              # orijinal\n",
        "df = data.copy(deep=True)    # bağımsız kopya\n",
        "\n",
        "# (kontrol için)\n",
        "print(\"orijinal shape:\", data.shape)\n",
        "print(\"kopya shape   :\", df.shape)"
      ],
      "metadata": {
        "id": "6npKpr-sbY9p",
        "colab": {
          "base_uri": "https://localhost:8080/"
        },
        "outputId": "7dbfdf0f-dc40-478c-8cf3-2e4b7a49e130"
      },
      "execution_count": 7,
      "outputs": [
        {
          "output_type": "stream",
          "name": "stdout",
          "text": [
            "orijinal shape: (611108, 26)\n",
            "kopya shape   : (611108, 26)\n"
          ]
        }
      ]
    },
    {
      "cell_type": "markdown",
      "metadata": {
        "id": "f3h7UlgvKdDK"
      },
      "source": [
        "### 4-Verisetinin Boyutlarına bulunuz"
      ]
    },
    {
      "cell_type": "code",
      "source": [
        "# 4- Verisetinin Boyutlarına Bulunuz\n",
        "print(\"Satır (gözlem) sayısı :\", df.shape[0])\n",
        "print(\"Sütun (özellik) sayısı:\", df.shape[1])\n",
        "print(\"Toplam eleman sayısı  :\", df.size)\n",
        "\n"
      ],
      "metadata": {
        "id": "b_N9k2_lbZs9",
        "colab": {
          "base_uri": "https://localhost:8080/"
        },
        "outputId": "9d5d9b71-1476-48b2-e0bc-98ff2f948f4b"
      },
      "execution_count": 11,
      "outputs": [
        {
          "output_type": "stream",
          "name": "stdout",
          "text": [
            "Satır (gözlem) sayısı : 611108\n",
            "Sütun (özellik) sayısı: 26\n",
            "Toplam eleman sayısı  : 15888808\n"
          ]
        }
      ]
    },
    {
      "cell_type": "markdown",
      "metadata": {
        "id": "nfW3_CSoKdDL"
      },
      "source": [
        "### 5-Verisetinin Sutunlarının İsimlerini Yazdırın"
      ]
    },
    {
      "cell_type": "code",
      "source": [
        "for col in df.columns:\n",
        "    print(\"-\", col)\n"
      ],
      "metadata": {
        "id": "bsAbI0PNbawL",
        "colab": {
          "base_uri": "https://localhost:8080/"
        },
        "outputId": "13bb9c49-02a2-4dca-a35e-96ce4cdf5f77"
      },
      "execution_count": 12,
      "outputs": [
        {
          "output_type": "stream",
          "name": "stdout",
          "text": [
            "- ID\n",
            "- ITEMCODE\n",
            "- ITEMNAME\n",
            "- FICHENO\n",
            "- DATE_\n",
            "- AMOUNT\n",
            "- PRICE\n",
            "- LINENETTOTAL\n",
            "- LINENET\n",
            "- BRANCHNR\n",
            "- BRANCH\n",
            "- SALESMAN\n",
            "- CITY\n",
            "- REGION\n",
            "- LATITUDE\n",
            "- LONGITUDE\n",
            "- CLIENTCODE\n",
            "- CLIENTNAME\n",
            "- BRANDCODE\n",
            "- BRAND\n",
            "- CATEGORY_NAME1\n",
            "- CATEGORY_NAME2\n",
            "- CATEGORY_NAME3\n",
            "- STARTDATE\n",
            "- ENDDATE\n",
            "- GENDER\n"
          ]
        }
      ]
    },
    {
      "cell_type": "markdown",
      "metadata": {
        "id": "bptBn-UWKdDL"
      },
      "source": [
        "### 6- Veri setinin bilgilerine ulaşılması"
      ]
    },
    {
      "cell_type": "code",
      "source": [
        "df.info()"
      ],
      "metadata": {
        "id": "85eIrov9bb8R",
        "colab": {
          "base_uri": "https://localhost:8080/"
        },
        "outputId": "1bb9c9b3-7453-4c8f-821f-a8ac009b73d1"
      },
      "execution_count": 13,
      "outputs": [
        {
          "output_type": "stream",
          "name": "stdout",
          "text": [
            "<class 'pandas.core.frame.DataFrame'>\n",
            "RangeIndex: 611108 entries, 0 to 611107\n",
            "Data columns (total 26 columns):\n",
            " #   Column          Non-Null Count   Dtype         \n",
            "---  ------          --------------   -----         \n",
            " 0   ID              611107 non-null  float64       \n",
            " 1   ITEMCODE        603941 non-null  float64       \n",
            " 2   ITEMNAME        603941 non-null  object        \n",
            " 3   FICHENO         611108 non-null  int64         \n",
            " 4   DATE_           611107 non-null  datetime64[ns]\n",
            " 5   AMOUNT          611107 non-null  float64       \n",
            " 6   PRICE           611107 non-null  float64       \n",
            " 7   LINENETTOTAL    611107 non-null  float64       \n",
            " 8   LINENET         611107 non-null  float64       \n",
            " 9   BRANCHNR        611107 non-null  float64       \n",
            " 10  BRANCH          611107 non-null  object        \n",
            " 11  SALESMAN        611108 non-null  object        \n",
            " 12  CITY            611107 non-null  object        \n",
            " 13  REGION          611107 non-null  object        \n",
            " 14  LATITUDE        611107 non-null  float64       \n",
            " 15  LONGITUDE       611107 non-null  float64       \n",
            " 16  CLIENTCODE      592760 non-null  object        \n",
            " 17  CLIENTNAME      592743 non-null  object        \n",
            " 18  BRANDCODE       575551 non-null  object        \n",
            " 19  BRAND           575551 non-null  object        \n",
            " 20  CATEGORY_NAME1  603941 non-null  object        \n",
            " 21  CATEGORY_NAME2  583448 non-null  object        \n",
            " 22  CATEGORY_NAME3  401649 non-null  object        \n",
            " 23  STARTDATE       611108 non-null  datetime64[ns]\n",
            " 24  ENDDATE         611108 non-null  datetime64[ns]\n",
            " 25  GENDER          592743 non-null  object        \n",
            "dtypes: datetime64[ns](3), float64(9), int64(1), object(13)\n",
            "memory usage: 121.2+ MB\n"
          ]
        }
      ]
    },
    {
      "cell_type": "markdown",
      "metadata": {
        "id": "m1WLrGyjKdDL"
      },
      "source": [
        "### 7- Veri Setinde Boş Değer Varmı sorgulanması"
      ]
    },
    {
      "cell_type": "code",
      "source": [
        "print(df.isnull().sum())"
      ],
      "metadata": {
        "id": "PK9QFSIFbdJl",
        "colab": {
          "base_uri": "https://localhost:8080/"
        },
        "outputId": "0eb2f57b-865c-4c1e-bf2f-cab264d95d0f"
      },
      "execution_count": 14,
      "outputs": [
        {
          "output_type": "stream",
          "name": "stdout",
          "text": [
            "ID                     1\n",
            "ITEMCODE            7167\n",
            "ITEMNAME            7167\n",
            "FICHENO                0\n",
            "DATE_                  1\n",
            "AMOUNT                 1\n",
            "PRICE                  1\n",
            "LINENETTOTAL           1\n",
            "LINENET                1\n",
            "BRANCHNR               1\n",
            "BRANCH                 1\n",
            "SALESMAN               0\n",
            "CITY                   1\n",
            "REGION                 1\n",
            "LATITUDE               1\n",
            "LONGITUDE              1\n",
            "CLIENTCODE         18348\n",
            "CLIENTNAME         18365\n",
            "BRANDCODE          35557\n",
            "BRAND              35557\n",
            "CATEGORY_NAME1      7167\n",
            "CATEGORY_NAME2     27660\n",
            "CATEGORY_NAME3    209459\n",
            "STARTDATE              0\n",
            "ENDDATE                0\n",
            "GENDER             18365\n",
            "dtype: int64\n"
          ]
        }
      ]
    },
    {
      "cell_type": "markdown",
      "metadata": {
        "id": "dWFLNHnkKdDL"
      },
      "source": [
        "### 8- Verisetindeki Sutunlarda Toplam Kaç Adet Değer Var Bulunuz"
      ]
    },
    {
      "cell_type": "code",
      "source": [
        "\n",
        "print(\"Toplam değer sayısı :\", df.count().sum())\n"
      ],
      "metadata": {
        "id": "Xebc6rVhbeRN",
        "colab": {
          "base_uri": "https://localhost:8080/"
        },
        "outputId": "e1e48908-b1f8-46fe-ff76-1dcadc145b0a"
      },
      "execution_count": 15,
      "outputs": [
        {
          "output_type": "stream",
          "name": "stdout",
          "text": [
            "Toplam değer sayısı : 15503984\n"
          ]
        }
      ]
    },
    {
      "cell_type": "markdown",
      "metadata": {
        "id": "reasmdptKdDL"
      },
      "source": [
        "### 9- Verisetinde Toplam Kaç Adet Değer Var Bulunuz"
      ]
    },
    {
      "cell_type": "code",
      "source": [
        "print(\"Toplam değer sayısı (boş + dolu):\", df.size)"
      ],
      "metadata": {
        "id": "SuKPbhbTbfRh",
        "colab": {
          "base_uri": "https://localhost:8080/"
        },
        "outputId": "c3d01199-21dd-4bab-9e76-46b26c55098d"
      },
      "execution_count": 16,
      "outputs": [
        {
          "output_type": "stream",
          "name": "stdout",
          "text": [
            "Toplam değer sayısı (boş + dolu): 15888808\n"
          ]
        }
      ]
    },
    {
      "cell_type": "code",
      "source": [],
      "metadata": {
        "id": "Z3eb1ioVbfJh"
      },
      "execution_count": null,
      "outputs": []
    },
    {
      "cell_type": "markdown",
      "metadata": {
        "id": "49l1ia6vKdDM"
      },
      "source": [
        "### 10- Verisetinde Boş Değer Olan Sutunların İsimlerini yazdıralım"
      ]
    },
    {
      "cell_type": "code",
      "source": [
        "bos_sutunlar = df.columns[df.isnull().any()]\n",
        "print(\"Boş değer bulunan sütunlar:\")\n",
        "print(bos_sutunlar)"
      ],
      "metadata": {
        "id": "R_XbKN4vbgcx",
        "colab": {
          "base_uri": "https://localhost:8080/"
        },
        "outputId": "f966e68d-b11f-4bd9-f5f0-faaae7f3bd3b"
      },
      "execution_count": 17,
      "outputs": [
        {
          "output_type": "stream",
          "name": "stdout",
          "text": [
            "Boş değer bulunan sütunlar:\n",
            "Index(['ID', 'ITEMCODE', 'ITEMNAME', 'DATE_', 'AMOUNT', 'PRICE',\n",
            "       'LINENETTOTAL', 'LINENET', 'BRANCHNR', 'BRANCH', 'CITY', 'REGION',\n",
            "       'LATITUDE', 'LONGITUDE', 'CLIENTCODE', 'CLIENTNAME', 'BRANDCODE',\n",
            "       'BRAND', 'CATEGORY_NAME1', 'CATEGORY_NAME2', 'CATEGORY_NAME3',\n",
            "       'GENDER'],\n",
            "      dtype='object')\n"
          ]
        }
      ]
    },
    {
      "cell_type": "markdown",
      "metadata": {
        "id": "s-eT195SKdDM"
      },
      "source": [
        "### 11-Verisetinin Sutunlarında Kaç farklı Tip var Onu Bulalım"
      ]
    },
    {
      "cell_type": "code",
      "source": [
        "print(\"Sütunlardaki veri tipleri:\")\n",
        "print(df.dtypes.value_counts())"
      ],
      "metadata": {
        "id": "SB34Ww2lbiQh",
        "colab": {
          "base_uri": "https://localhost:8080/"
        },
        "outputId": "50b69ca6-7551-47d2-d679-f345d7668e31"
      },
      "execution_count": 18,
      "outputs": [
        {
          "output_type": "stream",
          "name": "stdout",
          "text": [
            "Sütunlardaki veri tipleri:\n",
            "object            13\n",
            "float64            9\n",
            "datetime64[ns]     3\n",
            "int64              1\n",
            "Name: count, dtype: int64\n"
          ]
        }
      ]
    },
    {
      "cell_type": "markdown",
      "metadata": {
        "id": "x963H1uPKdDM"
      },
      "source": [
        "### 12- Verisetinin Sutunlarındaki Eşsiz Tipler Nelerdir Onlara Bakalım"
      ]
    },
    {
      "cell_type": "code",
      "source": [
        "print(\"Eşsiz (benzersiz) veri tipleri:\")\n",
        "print(df.dtypes.unique())"
      ],
      "metadata": {
        "id": "Lu-lxjvJbj9-",
        "colab": {
          "base_uri": "https://localhost:8080/"
        },
        "outputId": "d9521cd3-490a-42ef-8365-71e9df3156ee"
      },
      "execution_count": 19,
      "outputs": [
        {
          "output_type": "stream",
          "name": "stdout",
          "text": [
            "Eşsiz (benzersiz) veri tipleri:\n",
            "[dtype('float64') dtype('O') dtype('int64') dtype('<M8[ns]')]\n"
          ]
        }
      ]
    },
    {
      "cell_type": "markdown",
      "metadata": {
        "id": "8fe1ThNmKdDM"
      },
      "source": [
        "### 13-Verisetinin İlk 5 Satırını Yazdıralım"
      ]
    },
    {
      "cell_type": "code",
      "source": [
        "print(\"Veri setinin ilk 5 satırı:\")\n",
        "print(df.head())"
      ],
      "metadata": {
        "id": "ghhKnIPKbljt",
        "colab": {
          "base_uri": "https://localhost:8080/"
        },
        "outputId": "d1d7bba7-c528-4d95-f22f-0752e364d4e5"
      },
      "execution_count": 20,
      "outputs": [
        {
          "output_type": "stream",
          "name": "stdout",
          "text": [
            "Veri setinin ilk 5 satırı:\n",
            "        ID  ITEMCODE                         ITEMNAME  FICHENO      DATE_  \\\n",
            "0  11738.0    5863.0  SPRITE 1 LT LIMON AROMALI GAZOZ    18456 2017-01-07   \n",
            "1  10537.0       8.0                        TOZ SEKER    18105 2017-01-06   \n",
            "2  11335.0    5979.0             FALIM SAKIZ 5LI NANE    18350 2017-01-03   \n",
            "3  11336.0    5979.0             FALIM SAKIZ 5LI NANE    18350 2017-01-03   \n",
            "4  10115.0   12808.0            FALIM SAKIZ 5LI CILEK    18005 2017-01-05   \n",
            "\n",
            "   AMOUNT  PRICE  LINENETTOTAL  LINENET  BRANCHNR           BRANCH  \\\n",
            "0     1.0   2.00          2.00     1.85      52.0   Kocaeli Subesi   \n",
            "1     5.0   2.65         13.25    12.27       8.0   Antalya Subesi   \n",
            "2     1.0   0.40          0.40     0.37      40.0  İstanbul Subesi   \n",
            "3     1.0   0.40          0.40     0.37      40.0  İstanbul Subesi   \n",
            "4     1.0   0.40          0.40     0.37      41.0     İzmir Subesi   \n",
            "\n",
            "       SALESMAN      CITY   REGION  LATITUDE  LONGITUDE CLIENTCODE  \\\n",
            "0     Eyüp CİNE   Kocaeli  Marmara   40.8533    29.8815     467369   \n",
            "1  İlhan ÖRENLİ   Antalya  Akdeniz   36.8841    30.7056     131464   \n",
            "2  İsmet SARTIK  İstanbul  Marmara   41.0053    28.9770     656969   \n",
            "3  İsmet SARTIK  İstanbul  Marmara   41.0053    28.9770     656969   \n",
            "4  Gülten IŞLAK     İzmir      Ege   38.4189    27.1287     447336   \n",
            "\n",
            "       CLIENTNAME BRANDCODE   BRAND CATEGORY_NAME1   CATEGORY_NAME2  \\\n",
            "0  Sercan KIZILOK       156  SPRİTE         İÇECEK     GAZLI İÇECEK   \n",
            "1    İsmet ŞINGIR       NaN     NaN         İÇECEK        ÇAY KAHVE   \n",
            "2     Yağız KUBAL       300   FALIM           GIDA  SAKIZ SEKERLEME   \n",
            "3     Yağız KUBAL       300   FALIM           GIDA  SAKIZ SEKERLEME   \n",
            "4    Habibe AYSAN       300   FALIM           GIDA  SAKIZ SEKERLEME   \n",
            "\n",
            "       CATEGORY_NAME3           STARTDATE             ENDDATE GENDER  \n",
            "0               GAZOZ 2017-01-08 16:16:11 2017-01-08 16:17:13      E  \n",
            "1  SEKER TATLANDIRICI 2017-01-07 11:04:34 2017-01-07 11:05:37      E  \n",
            "2               SAKIZ 2017-01-04 14:00:03 2017-01-04 14:01:01      E  \n",
            "3               SAKIZ 2017-01-04 14:00:03 2017-01-04 14:01:01      E  \n",
            "4               SAKIZ 2017-01-06 14:00:30 2017-01-06 14:01:03      K  \n"
          ]
        }
      ]
    },
    {
      "cell_type": "markdown",
      "metadata": {
        "id": "xj4vrYixKdDM"
      },
      "source": [
        "### 14-Verisetinin son 7 Satırını Yazdıralım"
      ]
    },
    {
      "cell_type": "code",
      "source": [
        "print(\"Veri setinin son 7 satırı:\")\n",
        "print(df.tail(7))"
      ],
      "metadata": {
        "id": "OzEJwSz9bnCN",
        "colab": {
          "base_uri": "https://localhost:8080/"
        },
        "outputId": "c0b68362-5d77-41fa-d487-3a1f5a6ec42e"
      },
      "execution_count": 21,
      "outputs": [
        {
          "output_type": "stream",
          "name": "stdout",
          "text": [
            "Veri setinin son 7 satırı:\n",
            "              ID  ITEMCODE                  ITEMNAME  FICHENO      DATE_  \\\n",
            "611101  511342.0    6480.0  UNO KEPEKLI EKMEK 470GR.   134601 2017-03-18   \n",
            "611102  512198.0       7.0              EKMEK 250 GR   134742 2017-03-18   \n",
            "611103  511703.0       7.0              EKMEK 250 GR   134656 2017-03-18   \n",
            "611104  511496.0       7.0              EKMEK 250 GR   134630 2017-03-18   \n",
            "611105  492612.0       7.0              EKMEK 250 GR   130100 2017-03-15   \n",
            "611106  512343.0       7.0              EKMEK 250 GR   134762 2017-03-18   \n",
            "611107  512179.0    3942.0    ETI 80 GR KARAM BITTER   134738 2017-03-18   \n",
            "\n",
            "        AMOUNT  PRICE  LINENETTOTAL  LINENET  BRANCHNR           BRANCH  \\\n",
            "611101     1.0   3.25          3.25     3.22      73.0  Tekirdağ Subesi   \n",
            "611102     1.0   0.90          0.90     0.89      40.0  İstanbul Subesi   \n",
            "611103     1.0   0.90          0.90     0.89      66.0   Sakarya Subesi   \n",
            "611104     1.0   0.90          0.90     0.89       7.0    Ankara Subesi   \n",
            "611105     1.0   0.90          0.90     0.89      59.0     Muğla Subesi   \n",
            "611106     1.0   0.90          0.90     0.88      40.0  İstanbul Subesi   \n",
            "611107     1.0   1.90          1.90     1.76      74.0     Tokat Subesi   \n",
            "\n",
            "              SALESMAN      CITY      REGION  LATITUDE  LONGITUDE CLIENTCODE  \\\n",
            "611101  Aleyna ÇUKUREL  Tekirdağ     Marmara   40.9833    27.5167      16670   \n",
            "611102    İsmet SARTIK  İstanbul     Marmara   41.0053    28.9770     523722   \n",
            "611103  Beren BULGURCU   Sakarya     Marmara   40.6940    30.4358     374191   \n",
            "611104       Eda SINAV    Ankara  İç Anadolu   39.9208    32.8541     656248   \n",
            "611105  Nisa nur SAĞIM     Muğla         Ege   37.2153    28.3636      78643   \n",
            "611106     Arife DORAP  İstanbul     Marmara   41.0053    28.9770     926041   \n",
            "611107  Lütfiye DÖŞEME     Tokat   Karadeniz   40.3167    36.5500     241748   \n",
            "\n",
            "              CLIENTNAME BRANDCODE BRAND CATEGORY_NAME1 CATEGORY_NAME2  \\\n",
            "611101       Berat ÖGMEN       145   UNO           GIDA  UNLU MAMÜLLER   \n",
            "611102       Özcan PAPİR       NaN   NaN           GIDA  UNLU MAMÜLLER   \n",
            "611103   Mahmut BAYATGİL       NaN   NaN           GIDA  UNLU MAMÜLLER   \n",
            "611104       Gamze BOTUÇ       NaN   NaN           GIDA  UNLU MAMÜLLER   \n",
            "611105  Cengiz BEREKETÇİ       NaN   NaN           GIDA  UNLU MAMÜLLER   \n",
            "611106  Elifnur EGİNKAYA       NaN   NaN           GIDA  UNLU MAMÜLLER   \n",
            "611107    Hacer CANDEMİR        44   ETİ           GIDA  BÜSKİVİ ÇEREZ   \n",
            "\n",
            "       CATEGORY_NAME3           STARTDATE             ENDDATE GENDER  \n",
            "611101          EKMEK 2017-03-19 18:54:51 2017-03-19 18:54:58      E  \n",
            "611102          EKMEK 2017-03-19 16:09:39 2017-03-19 16:11:10      E  \n",
            "611103          EKMEK 2017-03-19 09:39:54 2017-03-19 09:40:50      E  \n",
            "611104          EKMEK 2017-03-19 20:30:58 2017-03-19 20:31:17      K  \n",
            "611105          EKMEK 2017-03-16 17:51:04 2017-03-16 17:51:18      E  \n",
            "611106          EKMEK 2017-03-19 17:00:12 2017-03-19 17:01:20      K  \n",
            "611107        BÜSKİVİ 2017-03-19 16:00:15 2017-03-19 16:00:37      K  \n"
          ]
        }
      ]
    },
    {
      "cell_type": "markdown",
      "metadata": {
        "id": "lmgX2Jw5KdDM"
      },
      "source": [
        "### 15- Verisetinde her satır için AMOUNT PRICE LINENETTOTAL sutunlarına ait bilgileri yazdıralım"
      ]
    },
    {
      "cell_type": "code",
      "source": [
        "print(\"AMOUNT, PRICE ve LINENETTOTAL sütunları:\")\n",
        "print(df[[\"AMOUNT\", \"PRICE\", \"LINENETTOTAL\"]])"
      ],
      "metadata": {
        "id": "QbeUpwy6bpRx",
        "colab": {
          "base_uri": "https://localhost:8080/"
        },
        "outputId": "a1a90112-5b3a-4539-b4f7-acca998142ef"
      },
      "execution_count": 22,
      "outputs": [
        {
          "output_type": "stream",
          "name": "stdout",
          "text": [
            "AMOUNT, PRICE ve LINENETTOTAL sütunları:\n",
            "        AMOUNT  PRICE  LINENETTOTAL\n",
            "0          1.0   2.00          2.00\n",
            "1          5.0   2.65         13.25\n",
            "2          1.0   0.40          0.40\n",
            "3          1.0   0.40          0.40\n",
            "4          1.0   0.40          0.40\n",
            "...        ...    ...           ...\n",
            "611103     1.0   0.90          0.90\n",
            "611104     1.0   0.90          0.90\n",
            "611105     1.0   0.90          0.90\n",
            "611106     1.0   0.90          0.90\n",
            "611107     1.0   1.90          1.90\n",
            "\n",
            "[611108 rows x 3 columns]\n"
          ]
        }
      ]
    },
    {
      "cell_type": "markdown",
      "metadata": {
        "id": "pWdDiDu8KdDN"
      },
      "source": [
        "### 16- Verisetinde LINENETTOTAL sutunda 15 den büyük olan satırları yazdıralım"
      ]
    },
    {
      "cell_type": "code",
      "source": [
        "print(\"LINENETTOTAL > 15 olan satırlar:\")\n",
        "print(df[df[\"LINENETTOTAL\"] > 15])"
      ],
      "metadata": {
        "id": "E6eyhTG-bszN",
        "colab": {
          "base_uri": "https://localhost:8080/"
        },
        "outputId": "5e6b4f0b-a7c5-4aa9-868d-4e57bb418f5a"
      },
      "execution_count": 23,
      "outputs": [
        {
          "output_type": "stream",
          "name": "stdout",
          "text": [
            "LINENETTOTAL > 15 olan satırlar:\n",
            "              ID  ITEMCODE                                   ITEMNAME  \\\n",
            "62        9745.0   10429.0                YUDUM AYCICEK YAGI 5 LT TNK   \n",
            "64        3322.0   19108.0             F NEFFIS AYCICEK YAGI 5 LT PET   \n",
            "95        5317.0    6217.0                   LD LODOS DENİZCİSİ SLİMS   \n",
            "239       7783.0    5571.0   WELLA KOLESTON KOPUK BOYA 5/0 ACIK KAHVE   \n",
            "250       7611.0    3187.0        F NEFFIS TAZE KASAR PEYNIRI 1000 GR   \n",
            "...          ...       ...                                        ...   \n",
            "610879  597076.0   10663.0  FAIRY H 1 ARADA BUL.MAKINESI 70'LI. LIMON   \n",
            "611060  596973.0   21588.0                                 DANA GULAS   \n",
            "611061  596365.0   21591.0                              DANA ANTRIKOT   \n",
            "611065  597287.0     968.0                   ICIM DOGAL YOGURT 2250GR   \n",
            "611068  596374.0   21584.0                          DANA KIYMALIK KG.   \n",
            "\n",
            "        FICHENO      DATE_  AMOUNT  PRICE  LINENETTOTAL  LINENET  BRANCHNR  \\\n",
            "62        17902 2017-01-06   1.000  20.49         20.49    18.97      12.0   \n",
            "64        16540 2017-01-05   1.000  17.90         17.90    16.57      39.0   \n",
            "95        16903 2017-01-05  10.000   5.00         50.00    50.00      70.0   \n",
            "239       17473 2017-01-06   1.000  15.75         15.75    13.35      56.0   \n",
            "250       17450 2017-01-06   1.000  15.75         15.75    14.58      67.0   \n",
            "...         ...        ...     ...    ...           ...      ...       ...   \n",
            "610879   154695 2017-03-30   1.000  27.50         27.50    23.31      52.0   \n",
            "611060   154689 2017-03-30   0.996  23.90         23.80    22.04      11.0   \n",
            "611061   154529 2017-03-30   0.660  27.90         18.41    17.05       7.0   \n",
            "611065   154731 2017-03-30   6.000   7.25         43.50    40.28      41.0   \n",
            "611068   154531 2017-03-30   1.042  19.90         20.74    19.21      42.0   \n",
            "\n",
            "                      BRANCH          SALESMAN           CITY      REGION  \\\n",
            "62          Balıkesir Subesi     Sami KASIMOVA      Balıkesir         Ege   \n",
            "64            Isparta Subesi   Elif nur GÜNLER        Isparta     Akdeniz   \n",
            "95              Sivas Subesi   Hümeyra GEÇİCİ)          Sivas  İç Anadolu   \n",
            "239            Manisa Subesi        Veli ÇAHAN         Manisa         Ege   \n",
            "250            Samsun Subesi      Necdet VARAL         Samsun   Karadeniz   \n",
            "...                      ...               ...            ...         ...   \n",
            "610879        Kocaeli Subesi  Halil KIRMIZIGÜN        Kocaeli     Marmara   \n",
            "611060          Aydın Subesi      Selçuk TEZEL          Aydın         Ege   \n",
            "611061         Ankara Subesi     Meliha AKTEKE         Ankara  İç Anadolu   \n",
            "611065          İzmir Subesi      Gülten IŞLAK          İzmir         Ege   \n",
            "611068  Kahramanmaraş Subesi    Duygu TEKİNSİZ  Kahramanmaraş     Akdeniz   \n",
            "\n",
            "        LATITUDE  LONGITUDE CLIENTCODE        CLIENTNAME BRANDCODE  \\\n",
            "62       39.6484    27.8826     521495      Bilal PORSUK       152   \n",
            "64       37.7648    30.5566     791614      Tayfun BATAK        49   \n",
            "95       39.7477    37.0179    1021217     Kezban GÖŞELİ       163   \n",
            "239      38.6191    27.4289     285961  Görkem ZIESCHANG       307   \n",
            "250      41.2928    36.3313     241750     Hazal ÖZBAKIŞ        49   \n",
            "...          ...        ...        ...               ...       ...   \n",
            "610879   40.8533    29.8815     712152      Hikmet YEREN       298   \n",
            "611060   37.8560    27.8416      27039   Mevlüt AYDINLIK       235   \n",
            "611061   39.9208    32.8541     350244   Reyhan ÇELİKSOY       235   \n",
            "611065   38.4189    27.1287     946400     Dursun GEYLAN        67   \n",
            "611068   37.5858    36.9371    1098716   Deniz GÖKMENLER       235   \n",
            "\n",
            "             BRAND     CATEGORY_NAME1  CATEGORY_NAME2 CATEGORY_NAME3  \\\n",
            "62           YUDUM               GIDA     SIVI YAĞLAR        AYÇİÇEK   \n",
            "64        F NEFFİS               GIDA     SIVI YAĞLAR        AYÇİÇEK   \n",
            "95             JTİ             SİGARA             NaN            NaN   \n",
            "239          WELLA           KOZMETİK       SAÇ BAKIM   SAÇ BOYALARI   \n",
            "250       F NEFFİS    SÜT KAHVALTILIK          PEYNİR  KAŞAR PEYNİRİ   \n",
            "...            ...                ...             ...            ...   \n",
            "610879       FAİRY  DETERJAN TEMİZLİK  BULAŞIK YIKAMA         MAKİNE   \n",
            "611060       KASAP           ET TAVUK      KIRMIZI ET           DANA   \n",
            "611061       KASAP           ET TAVUK      KIRMIZI ET           DANA   \n",
            "611065  İÇİM SEHER    SÜT KAHVALTILIK          YOĞURT      YOĞURTLAR   \n",
            "611068       KASAP           ET TAVUK      KIRMIZI ET           DANA   \n",
            "\n",
            "                 STARTDATE             ENDDATE GENDER  \n",
            "62     2017-01-07 14:28:00 2017-01-07 14:29:39      E  \n",
            "64     2017-01-06 20:08:26 2017-01-06 20:08:39      E  \n",
            "95     2017-01-06 13:44:22 2017-01-06 13:44:45      K  \n",
            "239    2017-01-07 14:52:34 2017-01-07 14:53:16      E  \n",
            "250    2017-01-07 20:00:19 2017-01-07 20:04:26      K  \n",
            "...                    ...                 ...    ...  \n",
            "610879 2017-03-31 12:24:13 2017-03-31 12:24:54      E  \n",
            "611060 2017-03-31 10:18:03 2017-03-31 10:18:39      E  \n",
            "611061 2017-03-31 18:27:07 2017-03-31 18:27:56      K  \n",
            "611065 2017-03-31 15:18:26 2017-03-31 15:28:25      E  \n",
            "611068 2017-03-31 18:36:26 2017-03-31 18:36:54      E  \n",
            "\n",
            "[17698 rows x 26 columns]\n"
          ]
        }
      ]
    },
    {
      "cell_type": "markdown",
      "metadata": {
        "id": "7hIzFmslKdDN"
      },
      "source": [
        "### 17- Verisetinde BRANCH ı Balıkesir Subesi olan satırları bulalım"
      ]
    },
    {
      "cell_type": "code",
      "source": [
        "print(\"Balıkesir Şubesi'ne ait satırlar:\")\n",
        "print(df[df[\"BRANCH\"] == \"Balıkesir Şubesi\"])"
      ],
      "metadata": {
        "id": "ygGXjVqPbvJ5",
        "colab": {
          "base_uri": "https://localhost:8080/"
        },
        "outputId": "0323f5c1-da44-411b-9290-13c0810e0362"
      },
      "execution_count": 24,
      "outputs": [
        {
          "output_type": "stream",
          "name": "stdout",
          "text": [
            "Balıkesir Şubesi'ne ait satırlar:\n",
            "Empty DataFrame\n",
            "Columns: [ID, ITEMCODE, ITEMNAME, FICHENO, DATE_, AMOUNT, PRICE, LINENETTOTAL, LINENET, BRANCHNR, BRANCH, SALESMAN, CITY, REGION, LATITUDE, LONGITUDE, CLIENTCODE, CLIENTNAME, BRANDCODE, BRAND, CATEGORY_NAME1, CATEGORY_NAME2, CATEGORY_NAME3, STARTDATE, ENDDATE, GENDER]\n",
            "Index: []\n"
          ]
        }
      ]
    }
  ],
  "metadata": {
    "kernelspec": {
      "display_name": "Python 3 (ipykernel)",
      "language": "python",
      "name": "python3"
    },
    "language_info": {
      "codemirror_mode": {
        "name": "ipython",
        "version": 3
      },
      "file_extension": ".py",
      "mimetype": "text/x-python",
      "name": "python",
      "nbconvert_exporter": "python",
      "pygments_lexer": "ipython3",
      "version": "3.9.7"
    },
    "colab": {
      "provenance": [],
      "include_colab_link": true
    }
  },
  "nbformat": 4,
  "nbformat_minor": 0
}